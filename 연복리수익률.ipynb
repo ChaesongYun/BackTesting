{
 "cells": [
  {
   "cell_type": "markdown",
   "metadata": {},
   "source": [
    "# 공격자산\n",
    "- QQQ, VWO, VEA, BND\n",
    "- 연복리수익률(CAGR)"
   ]
  },
  {
   "cell_type": "code",
   "execution_count": 57,
   "metadata": {},
   "outputs": [],
   "source": [
    "import numpy as np\n",
    "import pandas as pd\n",
    "import matplotlib.pyplot as plt \n",
    "\n",
    "\n",
    "def to_dataframe(path, name):\n",
    "    df = pd.read_csv(f'./data/{path}/daily/{name}.csv')[['Date','Price']].loc[::-1].reset_index(drop=True)\n",
    "    return df\n",
    "\n",
    "\n",
    "def cagr(path, name):\n",
    "    df = to_dataframe(path, name)\n",
    "    first_year = pd.to_datetime(df['Date']).dt.year.iloc[0]\n",
    "    last_year = pd.to_datetime(df['Date']).dt.year.iloc[-1]\n",
    "    first_price = df['Price'].iloc[0]\n",
    "    last_price = df['Price'].iloc[-1]\n",
    "\n",
    "    print(first_price, last_price)\n",
    "    return pow((last_price/first_price), 1/(last_year-first_year)) - 1"
   ]
  },
  {
   "cell_type": "code",
   "execution_count": 58,
   "metadata": {},
   "outputs": [
    {
     "name": "stdout",
     "output_type": "stream",
     "text": [
      "75.04 70.64\n",
      "50.85 390.72\n",
      "47.17 45.5\n",
      "25.05 40.39\n",
      "{'BND': -0.0037694245909439816, 'QQQ': 0.08867674265460512, 'VEA': -0.0022503249226327737, 'VWO': 0.026894660592929887}\n"
     ]
    }
   ],
   "source": [
    "bnd_cagr = cagr('aggressive', 'BND')\n",
    "qqq_cagr = cagr('aggressive', 'QQQ')\n",
    "vea_cagr = cagr('aggressive', 'VEA')\n",
    "vwo_cagr = cagr('aggressive', 'VWO')\n",
    "\n",
    "cagr = {'BND': bnd_cagr, 'QQQ': qqq_cagr, 'VEA': vea_cagr, 'VWO': vwo_cagr}\n",
    "print(cagr)\n",
    "# cagr.plot()\n"
   ]
  }
 ],
 "metadata": {
  "kernelspec": {
   "display_name": "Python 3",
   "language": "python",
   "name": "python3"
  },
  "language_info": {
   "codemirror_mode": {
    "name": "ipython",
    "version": 3
   },
   "file_extension": ".py",
   "mimetype": "text/x-python",
   "name": "python",
   "nbconvert_exporter": "python",
   "pygments_lexer": "ipython3",
   "version": "3.11.2"
  }
 },
 "nbformat": 4,
 "nbformat_minor": 2
}
